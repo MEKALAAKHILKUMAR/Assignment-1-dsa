{
 "cells": [
  {
   "cell_type": "markdown",
   "id": "6745cc7e",
   "metadata": {},
   "source": [
    "# Write a program to find all pairs of an integer array whose sum is equal to a given number?\n"
   ]
  },
  {
   "cell_type": "code",
   "execution_count": 2,
   "id": "a27052ea",
   "metadata": {},
   "outputs": [
    {
     "data": {
      "text/plain": [
       "[(2, 5), (4, 3), (6, 1)]"
      ]
     },
     "execution_count": 2,
     "metadata": {},
     "output_type": "execute_result"
    }
   ],
   "source": [
    "def pairs(arr,sum):\n",
    "    pairs=[]\n",
    "    for i in range(len(arr)):\n",
    "        for j in range(i+1,len(arr)):\n",
    "            if arr[i]+arr[j]==sum:\n",
    "                pairs.append((arr[i],arr[j]))\n",
    "    return pairs\n",
    "arr=[2,5,4,7,6,3,1]\n",
    "sum=7\n",
    "pairs(arr,sum)"
   ]
  },
  {
   "cell_type": "markdown",
   "id": "7674f5a0",
   "metadata": {},
   "source": [
    "# Write a program to reverse an array in place? In place means you cannot create a new array. You have to update the original array."
   ]
  },
  {
   "cell_type": "code",
   "execution_count": 7,
   "id": "3d992769",
   "metadata": {},
   "outputs": [
    {
     "name": "stdout",
     "output_type": "stream",
     "text": [
      "[5, 4, 3, 2, 1]\n"
     ]
    }
   ],
   "source": [
    "def reverse_array(arr):\n",
    "    start = 0\n",
    "    end = len(arr) - 1\n",
    "    while start < end:\n",
    "       \n",
    "        arr[start], arr[end] = arr[end], arr[start]\n",
    "        \n",
    "        start += 1\n",
    "        end -= 1\n",
    "\n",
    "arr = [1, 2, 3, 4, 5]\n",
    "reverse_array(arr)\n",
    "print(arr)  \n"
   ]
  },
  {
   "cell_type": "markdown",
   "id": "702e0eae",
   "metadata": {},
   "source": [
    "# Write a program to check if two strings are a rotation of each other?"
   ]
  },
  {
   "cell_type": "code",
   "execution_count": 14,
   "id": "d6dd6a90",
   "metadata": {},
   "outputs": [
    {
     "name": "stdout",
     "output_type": "stream",
     "text": [
      "hilkumarak is a rotation of akhilkumar\n"
     ]
    }
   ],
   "source": [
    "\n",
    "def is_rotation(s1, s2):\n",
    "    if len(s1) != len(s2):\n",
    "        return False\n",
    "    x = s1 + s1\n",
    "    if s2 in x:\n",
    "        return True\n",
    "    else:\n",
    "        return False\n",
    "\n",
    "s1 = 'akhilkumar'\n",
    "s2 = 'hilkumarak'\n",
    "#s1 = 'waterbottle'\n",
    "#s2 = 'erbottlewat'\n",
    "\n",
    "if is_rotation(s1, s2):\n",
    "    print(f\"{s2} is a rotation of {s1}\")\n",
    "else:\n",
    "    print(f\"{s2} is not a rotation of {s1}\")\n"
   ]
  },
  {
   "cell_type": "markdown",
   "id": "d6adabb6",
   "metadata": {},
   "source": [
    "# Write a program to print the first non-repeated character from a string?"
   ]
  },
  {
   "cell_type": "code",
   "execution_count": 3,
   "id": "28b2d310",
   "metadata": {},
   "outputs": [
    {
     "name": "stdout",
     "output_type": "stream",
     "text": [
      "The first non-repeated character in 'hello world' is 'h'\n"
     ]
    }
   ],
   "source": [
    "\n",
    "\n",
    "def first_non_repeated_char(string):\n",
    "    \n",
    "    char_count = {}\n",
    "    for char in string:\n",
    "        if char in char_count:\n",
    "            char_count[char] += 1\n",
    "        else:\n",
    "            char_count[char] = 1\n",
    "   \n",
    "    for char in string:\n",
    "        if char_count[char] == 1:\n",
    "           # print(char_count)\n",
    "            return char\n",
    "    \n",
    "    return None\n",
    "\n",
    "string = 'hello world'\n",
    "result = first_non_repeated_char(string)\n",
    "if result is not None:\n",
    "    print(f\"The first non-repeated character in '{string}' is '{result}'\")\n",
    "else:\n",
    "    print(f\"There is no non-repeated character in '{string}'\")\n"
   ]
  },
  {
   "cell_type": "code",
   "execution_count": null,
   "id": "6676603b",
   "metadata": {},
   "outputs": [],
   "source": []
  },
  {
   "cell_type": "markdown",
   "id": "35a7fa66",
   "metadata": {},
   "source": [
    "# Read about the Tower of Hanoi algorithm. Write a program to implement it."
   ]
  },
  {
   "cell_type": "code",
   "execution_count": 10,
   "id": "0f14a9b8",
   "metadata": {},
   "outputs": [
    {
     "name": "stdout",
     "output_type": "stream",
     "text": [
      "Move disk 1 from A to C\n",
      "Move disk 2 from A to B\n",
      "Move disk 1 from C to B\n",
      "Move disk 3 from A to C\n",
      "Move disk 1 from B to A\n",
      "Move disk 2 from B to C\n",
      "Move disk 1 from A to C\n"
     ]
    }
   ],
   "source": [
    "\n",
    "def tower_of_hanoi(n, source, destination, auxiliary):\n",
    "    if n == 1:\n",
    "        print(\"Move disk 1 from {} to {}\".format(source, destination))\n",
    "        return\n",
    "\n",
    "    tower_of_hanoi(n - 1, source, auxiliary, destination)\n",
    "    print(\"Move disk {} from {} to {}\".format(n, source, destination))\n",
    "    tower_of_hanoi(n - 1, auxiliary, destination, source)\n",
    "\n",
    "\n",
    "tower_of_hanoi(3, 'A', 'C', 'B')\n",
    "\n"
   ]
  },
  {
   "cell_type": "code",
   "execution_count": null,
   "id": "5cd6ed52",
   "metadata": {},
   "outputs": [],
   "source": []
  },
  {
   "cell_type": "markdown",
   "id": "26fb140b",
   "metadata": {},
   "source": [
    "# Read about infix, prefix, and postfix expressions. Write a program to convert postfix to prefix expression."
   ]
  },
  {
   "cell_type": "code",
   "execution_count": 20,
   "id": "38756f93",
   "metadata": {},
   "outputs": [
    {
     "name": "stdout",
     "output_type": "stream",
     "text": [
      "the prefis is:  *+234\n"
     ]
    }
   ],
   "source": [
    "\n",
    "def postfix_to_prefix(postfix):\n",
    "    \n",
    "    stack = []\n",
    "    for i in postfix:\n",
    "        if i.isdigit():\n",
    "            stack.append(i)\n",
    "        else:\n",
    "            operand2 = stack.pop()\n",
    "            operand1 = stack.pop()\n",
    "            prefix = i + operand1 + operand2\n",
    "            stack.append(prefix)\n",
    "    return stack.pop()\n",
    "\n",
    "postfix = \"23+4*\"\n",
    "prefix = postfix_to_prefix(postfix)\n",
    "print(\"the prefis is: \", prefix)  \n"
   ]
  },
  {
   "cell_type": "markdown",
   "id": "f23bcfca",
   "metadata": {},
   "source": [
    "# Write a program to convert prefix expression to infix expression."
   ]
  },
  {
   "cell_type": "code",
   "execution_count": 26,
   "id": "8429e1f0",
   "metadata": {},
   "outputs": [
    {
     "name": "stdout",
     "output_type": "stream",
     "text": [
      "((2+3)*4)\n"
     ]
    }
   ],
   "source": [
    "\n",
    "def prefix_to_infix(prefix):\n",
    "    stack = []\n",
    "    operators = set(['+', '-', '*', '/', '^'])\n",
    "\n",
    "    for i in range(len(prefix)-1, -1, -1):\n",
    "        if prefix[i] in operators:\n",
    "            operand1 = stack.pop()\n",
    "            operand2 = stack.pop()\n",
    "            infix = '(' + operand1 + prefix[i] + operand2 + ')'\n",
    "            stack.append(infix)\n",
    "        else:\n",
    "            stack.append(prefix[i])\n",
    "\n",
    "    return stack.pop()\n",
    "\n",
    "prefix = \"*+234\"\n",
    "infix = prefix_to_infix(prefix)\n",
    "print(infix) \n"
   ]
  },
  {
   "cell_type": "markdown",
   "id": "6f9fe134",
   "metadata": {},
   "source": [
    "# Write a program to check if all the brackets are closed in a given code snippet.                              "
   ]
  },
  {
   "cell_type": "code",
   "execution_count": 27,
   "id": "f62c6c64",
   "metadata": {},
   "outputs": [
    {
     "name": "stdout",
     "output_type": "stream",
     "text": [
      "All brackets are closed\n"
     ]
    }
   ],
   "source": [
    "def check_brackets(code):\n",
    "    stack = []\n",
    "    opening_brackets = set(['(', '[', '{'])\n",
    "    closing_brackets = set([')', ']', '}'])\n",
    "    bracket_pairs = {')': '(', ']': '[', '}': '{'}\n",
    "\n",
    "    for c in code:\n",
    "        if c in opening_brackets:\n",
    "            stack.append(c)\n",
    "        elif c in closing_brackets:\n",
    "            if not stack:\n",
    "                return False\n",
    "            if bracket_pairs[c] == stack[-1]:\n",
    "                stack.pop()\n",
    "            else:\n",
    "                return False\n",
    "\n",
    "    return not stack\n",
    "\n",
    "code = \"(x + [y + z]) * (a + b)\"\n",
    "if check_brackets(code):\n",
    "    print(\"All brackets are closed\")\n",
    "else:\n",
    "    print(\"There are unclosed brackets\")\n"
   ]
  },
  {
   "cell_type": "markdown",
   "id": "9759742b",
   "metadata": {},
   "source": [
    "# Write a program to reverse a stack."
   ]
  },
  {
   "cell_type": "code",
   "execution_count": 63,
   "id": "e4cf5b08",
   "metadata": {},
   "outputs": [
    {
     "name": "stdout",
     "output_type": "stream",
     "text": [
      "[5, 4, 3, 2, 1]\n"
     ]
    }
   ],
   "source": [
    "def reverse_stack(arr):\n",
    "    stack = []\n",
    "\n",
    "    while arr:\n",
    "        stack.append(arr.pop())\n",
    "       \n",
    "    return stack\n",
    "arr = [1, 2, 3, 4, 5]\n",
    "print(reverse_stack(arr))\n"
   ]
  },
  {
   "cell_type": "markdown",
   "id": "5c7ce315",
   "metadata": {},
   "source": [
    "# Write a program to find the smallest number using a stack."
   ]
  },
  {
   "cell_type": "code",
   "execution_count": 65,
   "id": "1b8b60f9",
   "metadata": {},
   "outputs": [
    {
     "name": "stdout",
     "output_type": "stream",
     "text": [
      "1\n"
     ]
    }
   ],
   "source": [
    "def min(l):\n",
    "    s=[]\n",
    "    for i in range(len(l)-1):\n",
    "        if l[i]<l[i+1]:\n",
    "            s.append(l[i])\n",
    "    return s \n",
    "l = [8, 5, 2, 1, 3]\n",
    "print(min(l).pop())"
   ]
  },
  {
   "cell_type": "code",
   "execution_count": null,
   "id": "6dc6a561",
   "metadata": {},
   "outputs": [],
   "source": []
  }
 ],
 "metadata": {
  "kernelspec": {
   "display_name": "Python 3 (ipykernel)",
   "language": "python",
   "name": "python3"
  },
  "language_info": {
   "codemirror_mode": {
    "name": "ipython",
    "version": 3
   },
   "file_extension": ".py",
   "mimetype": "text/x-python",
   "name": "python",
   "nbconvert_exporter": "python",
   "pygments_lexer": "ipython3",
   "version": "3.9.13"
  }
 },
 "nbformat": 4,
 "nbformat_minor": 5
}
